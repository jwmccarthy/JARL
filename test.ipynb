{
 "cells": [
  {
   "cell_type": "code",
   "execution_count": 43,
   "metadata": {},
   "outputs": [],
   "source": [
    "import torch as th\n",
    "import torch.nn as nn\n",
    "\n",
    "import gymnasium as gym\n",
    "\n",
    "from jarl.modules.mlp import MLP\n",
    "from jarl.envs.gym import TorchGymEnv\n",
    "from jarl.modules.operator import Critic\n",
    "from jarl.modules.encoder import FlattenEncoder\n",
    "from jarl.modules.policy import DiagonalGaussianPolicy"
   ]
  },
  {
   "cell_type": "code",
   "execution_count": 2,
   "metadata": {},
   "outputs": [],
   "source": [
    "env = gym.make('BipedalWalker-v3')\n",
    "env = TorchGymEnv(env)"
   ]
  },
  {
   "cell_type": "code",
   "execution_count": 51,
   "metadata": {},
   "outputs": [],
   "source": [
    "policy = DiagonalGaussianPolicy(\n",
    "    head=FlattenEncoder(),\n",
    "    body=MLP(func=nn.ReLU, dims=[64, 32, 32, 16])\n",
    ").build(env)\n",
    "\n",
    "critic = Critic(\n",
    "    head=FlattenEncoder(), \n",
    "    body=MLP(func=nn.ReLU, dims=[64, 32, 32, 16]),\n",
    ").build(env)"
   ]
  },
  {
   "cell_type": "code",
   "execution_count": null,
   "metadata": {},
   "outputs": [],
   "source": []
  }
 ],
 "metadata": {
  "kernelspec": {
   "display_name": "base",
   "language": "python",
   "name": "python3"
  },
  "language_info": {
   "codemirror_mode": {
    "name": "ipython",
    "version": 3
   },
   "file_extension": ".py",
   "mimetype": "text/x-python",
   "name": "python",
   "nbconvert_exporter": "python",
   "pygments_lexer": "ipython3",
   "version": "3.11.5"
  }
 },
 "nbformat": 4,
 "nbformat_minor": 2
}
