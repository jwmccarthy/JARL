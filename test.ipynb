{
 "cells": [
  {
   "cell_type": "code",
   "execution_count": 1,
   "metadata": {},
   "outputs": [],
   "source": [
    "import torch as th\n",
    "import torch.nn as nn\n",
    "from torch.optim import Adam\n",
    "\n",
    "import gymnasium as gym\n",
    "\n",
    "from jarl.modules.mlp import MLP\n",
    "from jarl.envs.gym import TorchGymEnv\n",
    "from jarl.modules.operator import Critic\n",
    "from jarl.modules.encoder import FlattenEncoder\n",
    "from jarl.modules.policy import DiagonalGaussianPolicy\n",
    "\n",
    "from jarl.train.optimizer import Optimizer\n",
    "from jarl.train.graph.graph import TrainGraph\n",
    "from jarl.train.sample.base import BatchSampler\n",
    "from jarl.train.update.policy import ClippedPolicyUpdate\n",
    "from jarl.train.update.critic import MSECriticUpdate\n",
    "\n",
    "from jarl.train.modify.compute import (\n",
    "    ComputeValues,\n",
    "    ComputeAdvantages,\n",
    "    ComputeReturns\n",
    ")"
   ]
  },
  {
   "cell_type": "code",
   "execution_count": 2,
   "metadata": {},
   "outputs": [],
   "source": [
    "env = gym.make('BipedalWalker-v3')\n",
    "env = TorchGymEnv(env)"
   ]
  },
  {
   "cell_type": "code",
   "execution_count": 3,
   "metadata": {},
   "outputs": [],
   "source": [
    "policy = DiagonalGaussianPolicy(\n",
    "    head=FlattenEncoder(),\n",
    "    body=MLP(func=nn.ReLU, dims=[64, 32, 32, 16])\n",
    ").build(env)\n",
    "\n",
    "critic = Critic(\n",
    "    head=FlattenEncoder(), \n",
    "    body=MLP(func=nn.ReLU, dims=[64, 32, 32, 16]),\n",
    ").build(env)"
   ]
  },
  {
   "cell_type": "code",
   "execution_count": 4,
   "metadata": {},
   "outputs": [],
   "source": [
    "ppo_block = (\n",
    "    TrainGraph(\n",
    "        BatchSampler(64),\n",
    "        ClippedPolicyUpdate(\n",
    "            1024, policy, optimizer=Optimizer(Adam)\n",
    "        ), \n",
    "        MSECriticUpdate(\n",
    "            2048, critic, optimizer=Optimizer(Adam)\n",
    "        )\n",
    "    )\n",
    "    .add_modifier(ComputeAdvantages())\n",
    "    .add_modifier(ComputeReturns())\n",
    "    .add_modifier(ComputeValues(critic))\n",
    "    .compile()\n",
    ")"
   ]
  },
  {
   "cell_type": "code",
   "execution_count": 7,
   "metadata": {},
   "outputs": [
    {
     "data": {
      "text/plain": [
       "[<jarl.train.modify.compute.ComputeValues at 0x158d8ced0>,\n",
       " <jarl.train.modify.compute.ComputeAdvantages at 0x16632b390>]"
      ]
     },
     "execution_count": 7,
     "metadata": {},
     "output_type": "execute_result"
    }
   ],
   "source": [
    "ppo_block.ready(1024)\n",
    "ppo_block.active_dep"
   ]
  }
 ],
 "metadata": {
  "kernelspec": {
   "display_name": "base",
   "language": "python",
   "name": "python3"
  },
  "language_info": {
   "codemirror_mode": {
    "name": "ipython",
    "version": 3
   },
   "file_extension": ".py",
   "mimetype": "text/x-python",
   "name": "python",
   "nbconvert_exporter": "python",
   "pygments_lexer": "ipython3",
   "version": "3.11.5"
  }
 },
 "nbformat": 4,
 "nbformat_minor": 2
}
